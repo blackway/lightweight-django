{
 "cells": [
  {
   "cell_type": "markdown",
   "metadata": {},
   "source": [
    "# Chapter 1. The World's Smallest Django Project"
   ]
  },
  {
   "cell_type": "markdown",
   "metadata": {},
   "source": [
    "---"
   ]
  },
  {
   "cell_type": "markdown",
   "metadata": {},
   "source": [
    "# TOC"
   ]
  },
  {
   "cell_type": "markdown",
   "metadata": {},
   "source": [
    "## 1. Hello Django"
   ]
  },
  {
   "cell_type": "markdown",
   "metadata": {},
   "source": [
    "### 1) Creating the View"
   ]
  },
  {
   "cell_type": "markdown",
   "metadata": {},
   "source": [
    "### 2) The URL Patterns"
   ]
  },
  {
   "cell_type": "markdown",
   "metadata": {},
   "source": [
    "### 3) The Settings"
   ]
  },
  {
   "cell_type": "markdown",
   "metadata": {},
   "source": [
    "### 4) Running the Example"
   ]
  },
  {
   "cell_type": "markdown",
   "metadata": {},
   "source": [
    "## 2. Improvements"
   ]
  },
  {
   "cell_type": "markdown",
   "metadata": {},
   "source": [
    "### 1) WSGI Application"
   ]
  },
  {
   "cell_type": "markdown",
   "metadata": {},
   "source": [
    "### 2) Additional Configuration"
   ]
  },
  {
   "cell_type": "markdown",
   "metadata": {},
   "source": [
    "### 3) Reusable Template"
   ]
  },
  {
   "cell_type": "markdown",
   "metadata": {},
   "source": [
    "---"
   ]
  },
  {
   "cell_type": "markdown",
   "metadata": {},
   "source": [
    "## 1. Hello Django"
   ]
  },
  {
   "cell_type": "markdown",
   "metadata": {},
   "source": [
    "While the **startproject** command is a useful tool, it is not required in order to start a Django project. You are free to lay out your project however you like based on what you want to do. For larger projects, developers benefit from the code organization provided by the startproject command. However, **the convenience of this command shouldn’t stop you from understanding what it does and why it is helpful.**\n",
    "In this chapter we’ll lay out an example of how to create a simple project using Django’s basic building blocks."
   ]
  },
  {
   "cell_type": "markdown",
   "metadata": {},
   "source": [
    "This lightweight “Hello World” project will create a simple Django application **using a single-file approach.**"
   ]
  },
  {
   "cell_type": "markdown",
   "metadata": {},
   "source": [
    "In this chapter, we’ll start by using a single ***hello.py*** file. This file will contain all of the code needed to run our Django project."
   ]
  },
  {
   "cell_type": "markdown",
   "metadata": {},
   "source": [
    "### 1) Creating the View"
   ]
  },
  {
   "cell_type": "markdown",
   "metadata": {},
   "source": [
    "model-template-view (MTV) framework\n",
    "- The view portion typically\n",
    "    - inspects the incoming HTTP request\n",
    "    - queries the necessary data to send to the presentation layer.\n",
    "    - constructs the necessary data to send to the presentation layer."
   ]
  },
  {
   "cell_type": "markdown",
   "metadata": {},
   "source": [
    "**let’s create a simple way to execute a “Hello World” response.**"
   ]
  },
  {
   "cell_type": "code",
   "execution_count": null,
   "metadata": {
    "collapsed": true
   },
   "outputs": [],
   "source": [
    "from django.http import HttpResponse\n",
    "\n",
    "def index(request):\n",
    "    return HttpResponse('Hello World')"
   ]
  },
  {
   "cell_type": "markdown",
   "metadata": {},
   "source": [
    "- this would typically be in a views.py file inside one of your apps.\n",
    "- there is no requirement for views to live inside of apps.\n",
    "- There is also no requirement that views live in a file called views.py.\n",
    "- This is purely a matter of convention, but not a requirement on which to base our project’s structure."
   ]
  },
  {
   "cell_type": "markdown",
   "metadata": {},
   "source": [
    "### 2) The URL Patterns"
   ]
  },
  {
   "cell_type": "markdown",
   "metadata": {},
   "source": [
    "- Django associates views with their URL by pairing a regular expression to match the URL and any callable arguments to the view.\n",
    "- The following is an example from hello.py of how we make this connection."
   ]
  },
  {
   "cell_type": "code",
   "execution_count": null,
   "metadata": {
    "collapsed": true
   },
   "outputs": [],
   "source": [
    "from django.conf.urls import url\n",
    "from django.http import HttpResponse\n",
    "\n",
    "def index(request):\n",
    "    return HttpResponse('Hello World')\n",
    "\n",
    "urlpatterns = (\n",
    "    url(r'^$', index),\n",
    ")"
   ]
  },
  {
   "cell_type": "markdown",
   "metadata": {},
   "source": [
    "- Now this file combines both a typical views.py file and the root urls.py file.\n",
    "- Again, it is worth noting that there is **no requirement for the URL patterns to be included in a urls.py file.**"
   ]
  },
  {
   "cell_type": "markdown",
   "metadata": {},
   "source": [
    "### 3) The Settings"
   ]
  },
  {
   "cell_type": "markdown",
   "metadata": {},
   "source": [
    "- **Django settings** detail everything from database and cache connections to internation‐ alization features and static and uploaded resources.\n",
    "- For many developers just getting started, **the settings in Django are a major point of confusion.**\n",
    "- While **recent releases have worked to trim down the default settings’ file length**, it can still be overwhelming."
   ]
  },
  {
   "cell_type": "code",
   "execution_count": null,
   "metadata": {
    "collapsed": false
   },
   "outputs": [],
   "source": [
    "from django.conf import settings\n",
    "\n",
    "settings.configure(\n",
    "    DEBUG=True,\n",
    "    SECRET_KEY='thisisthesecretkey',\n",
    "    ROOT_URLCONF=__name__,\n",
    "    MIDDLEWARE_CLASSES=(\n",
    "        'django.middleware.common.CommonMiddleware',\n",
    "        'django.middleware.csrf.CsrfViewMiddleware',\n",
    "        'django.middleware.clickjacking.XFrameOptionsMiddleware',\n",
    "    ),\n",
    ")\n",
    "\n",
    "from django.conf.urls import url\n",
    "from django.http import HttpResponse\n",
    "\n",
    "def index(request):\n",
    "    return HttpResponse('Hello World')\n",
    "\n",
    "urlpatterns = (\n",
    "    url(r'^$', index),\n",
    ")"
   ]
  },
  {
   "cell_type": "markdown",
   "metadata": {},
   "source": [
    "- A **secret key** must be generated for the default session and cross-site request forgery (CSRF) protection.\n",
    "- It is important for any production site to have a **random SECRET_KEY** that is kept private.\n",
    "- https://docs.djangoproject.com/en/1.7/topics/signing"
   ]
  },
  {
   "cell_type": "markdown",
   "metadata": {},
   "source": [
    "#### Cryptographic signing"
   ]
  },
  {
   "cell_type": "markdown",
   "metadata": {},
   "source": [
    "The golden rule of Web application security is to never trust data from untrusted sources. **Cryptographically signed values** can be passed through an untrusted channel safe in the knowledge that any tampering will be detected.\n",
    "\n",
    "**Django provides both a low-level API for signing values and a high-level API** for setting and reading signed cookies, one of the most common uses of signing in Web applications."
   ]
  },
  {
   "cell_type": "markdown",
   "metadata": {},
   "source": [
    "##### **Protecting the SECRET_KEY** ->  Securing signed data"
   ]
  },
  {
   "cell_type": "markdown",
   "metadata": {},
   "source": [
    "When you create a new Django project using startproject, the **settings.py** file is generated automatically and gets a random **SECRET_KEY value**.\n",
    "\n",
    "**This value is the key to securing signed data** – it is vital you keep this secure, or attackers could use it to generate their own signed values."
   ]
  },
  {
   "cell_type": "markdown",
   "metadata": {},
   "source": [
    "##### **Using the low-level API**"
   ]
  },
  {
   "cell_type": "markdown",
   "metadata": {},
   "source": [
    "###### sign"
   ]
  },
  {
   "cell_type": "code",
   "execution_count": null,
   "metadata": {
    "collapsed": false
   },
   "outputs": [],
   "source": [
    "from django.core.signing import Signer\n",
    "from django.core import signing"
   ]
  },
  {
   "cell_type": "code",
   "execution_count": null,
   "metadata": {
    "collapsed": false
   },
   "outputs": [],
   "source": [
    "signer = Signer()\n",
    "value = signer.sign('My String')\n",
    "print(value)"
   ]
  },
  {
   "cell_type": "markdown",
   "metadata": {},
   "source": [
    "###### unsign"
   ]
  },
  {
   "cell_type": "code",
   "execution_count": null,
   "metadata": {
    "collapsed": false
   },
   "outputs": [],
   "source": [
    "original = signer.unsign(value)\n",
    "print(original)"
   ]
  },
  {
   "cell_type": "markdown",
   "metadata": {},
   "source": [
    "###### tampering"
   ]
  },
  {
   "cell_type": "code",
   "execution_count": null,
   "metadata": {
    "collapsed": false
   },
   "outputs": [],
   "source": [
    "value += 'm'\n",
    "try:\n",
    "    original = signer.unsign(value)\n",
    "except signing.BadSignature:\n",
    "    print(\"Tampering detected!!\")"
   ]
  },
  {
   "cell_type": "markdown",
   "metadata": {},
   "source": [
    "### 4) Running the Example"
   ]
  },
  {
   "cell_type": "code",
   "execution_count": null,
   "metadata": {
    "collapsed": false
   },
   "outputs": [],
   "source": [
    "import sys\n",
    "from django.conf import settings\n",
    "\n",
    "settings.configure(\n",
    "    DEBUG=True,\n",
    "    SECRET_KEY='thisisthesecretkey',\n",
    "    ROOT_URLCONF=__name__,\n",
    "    MIDDLEWARE_CLASSES=(\n",
    "        'django.middleware.common.CommonMiddleware',\n",
    "        'django.middleware.csrf.CsrfViewMiddleware',\n",
    "        'django.middleware.clickjacking.XFrameOptionsMiddleware',\n",
    "    ),\n",
    ")\n",
    "\n",
    "from django.conf.urls import url\n",
    "from django.http import HttpResponse\n",
    "\n",
    "def index(request):\n",
    "    return HttpResponse('Hello World')\n",
    "\n",
    "urlpatterns = (\n",
    "    url(r'^$', index),\n",
    ")\n",
    "\n",
    "if __name__ == \"__main__\":\n",
    "    from django.core.management import execute_from_command_line\n",
    "    execute_from_command_line(sys.argv)"
   ]
  },
  {
   "cell_type": "markdown",
   "metadata": {},
   "source": [
    "---"
   ]
  },
  {
   "cell_type": "markdown",
   "metadata": {},
   "source": [
    "## 2. Improvements"
   ]
  },
  {
   "cell_type": "markdown",
   "metadata": {},
   "source": [
    "### 1) WSGI Application"
   ]
  },
  {
   "cell_type": "markdown",
   "metadata": {},
   "source": [
    "### 2) Additional Configuration"
   ]
  },
  {
   "cell_type": "markdown",
   "metadata": {},
   "source": [
    "### 3) Reusable Template"
   ]
  }
 ],
 "metadata": {
  "kernelspec": {
   "display_name": "Django Shell-Plus",
   "language": "python",
   "name": "django_extensions"
  },
  "language_info": {
   "codemirror_mode": {
    "name": "ipython",
    "version": 3
   },
   "file_extension": ".py",
   "mimetype": "text/x-python",
   "name": "python",
   "nbconvert_exporter": "python",
   "pygments_lexer": "ipython3",
   "version": "3.4.3"
  }
 },
 "nbformat": 4,
 "nbformat_minor": 0
}
